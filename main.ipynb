{
 "cells": [
  {
   "cell_type": "code",
   "execution_count": null,
   "metadata": {},
   "outputs": [],
   "source": [
    "def calculate_grade(score):\n",
    "    if 90 <= score <= 100:\n",
    "        return \"A\"\n",
    "    elif 80 <= score < 90:\n",
    "        return \"B\"\n",
    "    elif 70 <= score < 80:\n",
    "        return \"C\"\n",
    "    elif 60 <= score < 70:\n",
    "        return \"D\"\n",
    "    elif 0 <= score < 60:\n",
    "        return \"F\"\n",
    "    else:\n",
    "        return \"Invalid input\"\n",
    "    \n",
    "\n",
    "def main():\n",
    "    while True:\n",
    "        try:\n",
    "            score = float(input(\"Enter the numeric score (0-100): \"))\n",
    "            if 0 <= score <= 100:\n",
    "                grade = calculate_grade(score)\n",
    "                print(f\"The grade for a score of {score} is: {grade}\")\n",
    "            else:\n",
    "                print(\"Score must be between 0 and 100. Please try again.\")\n",
    "        except ValueError:\n",
    "            print(\"Invalid input. Please enter a numeric score.\")\n",
    "        \n",
    "        another = input(\"Do you want to enter another score? (yes/no): \")\n",
    "        if another.lower() != \"yes\":\n",
    "            print(\"Goodbye!\")\n",
    "            break\n",
    "\n",
    "if __name__ == \"__main__\":\n",
    "    main()"
   ]
  }
 ],
 "metadata": {
  "language_info": {
   "name": "python"
  },
  "orig_nbformat": 4
 },
 "nbformat": 4,
 "nbformat_minor": 2
}
